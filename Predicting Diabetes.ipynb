{
  "nbformat": 4,
  "nbformat_minor": 0,
  "metadata": {
    "colab": {
      "provenance": []
    },
    "kernelspec": {
      "name": "python3",
      "display_name": "Python 3"
    },
    "language_info": {
      "name": "python"
    }
  },
  "cells": [
    {
      "cell_type": "markdown",
      "source": [
        "# **Project-2**\n",
        "\n",
        "***Project Title:*** Predicting Diabetes\n",
        "\n",
        "***Project Description:*** In this project, you will build a machine learning model to predict whether a person has diabetes or not based on their health metrics such as BMI, blood pressure, glucose levels, etc. The data set includes information on individuals' health metrics, including whether they have diabetes or not.\n",
        "\n",
        "***Dataset Details:*** The data set contains over 750 records of female patients aged 21 years or older. The dataset has eight features (e.g., age, BMI, blood pressure, insulin level, etc.) and one target variable that indicates whether the person has diabetes or not.\n",
        "\n",
        "***Datasets Location:*** Canvas -> Modules -> Week 13 -> Datasets -> **\"patients.csv\"**.\n",
        "\n",
        "***Tasks:*** \n",
        "\n",
        "1) *Data Exploration and Preprocessing:* You will explore the data set, handle missing values, perform feature engineering, and preprocess the data to get it ready for model building.\n",
        "\n",
        "2) *Model Building:* You will train and evaluate several machine learning models on the preprocessed data set, including logistic regression, decision trees, and support vector machines.\n",
        "\n",
        "3) *Model Evaluation:* You will evaluate the models' performance using several metrics such as accuracy, precision, recall, F1-score, and ROC curve analysis. You will also compare the models' performance and select the best-performing one.\n",
        "\n",
        "4) *Deployment:* Once you have selected the best-performing model, you will deploy it and make predictions on new, unseen data.\n",
        "\n",
        "This project will give you hands-on experience with supervised classification, data preprocessing, and model evaluation. It also has real-world applications in healthcare, where early detection of diabetes can help in the timely management of the disease.\n"
      ],
      "metadata": {
        "id": "VUm-5CVha_Mr"
      }
    },
    {
      "cell_type": "code",
      "source": [
        "# Importing Libraries\n",
        "import pandas as pd\n",
        "import numpy as np\n",
        "import matplotlib.pyplot as plt\n",
        "\n",
        "from google.colab import drive\n",
        "\n",
        "drive.mount('/content/drive')\n",
        "\n",
        "diabetes_df = pd.read_csv(\"drive/My Drive/Machine Learning/Project 2/patients.csv\")\n"
      ],
      "metadata": {
        "colab": {
          "base_uri": "https://localhost:8080/"
        },
        "id": "1sYv6MSOrVz4",
        "outputId": "63ef4879-4db8-49fa-9082-78a44e124f23"
      },
      "execution_count": 4,
      "outputs": [
        {
          "output_type": "stream",
          "name": "stdout",
          "text": [
            "Mounted at /content/drive\n"
          ]
        }
      ]
    },
    {
      "cell_type": "markdown",
      "source": [
        "Task 1: Data Exploration and Preprocessing"
      ],
      "metadata": {
        "id": "F4hETB02sIgX"
      }
    },
    {
      "cell_type": "code",
      "source": [
        "# first five rows of the dataset\n",
        "print(diabetes_df.head())"
      ],
      "metadata": {
        "colab": {
          "base_uri": "https://localhost:8080/"
        },
        "id": "s6YUsCNorwB-",
        "outputId": "d5709729-9a01-4412-8e36-6910f05a462e"
      },
      "execution_count": 14,
      "outputs": [
        {
          "output_type": "stream",
          "name": "stdout",
          "text": [
            "   Pregnancies   Glucose  BloodPressure  SkinThickness   Insulin       BMI  \\\n",
            "0     0.644576  0.866954       0.110259       0.883801 -0.705231  0.214926   \n",
            "1    -0.842907 -1.109289      -0.230279       0.504234 -0.705231 -0.684454   \n",
            "2     1.239570  1.964866      -0.343792      -1.330341 -0.705231 -1.108447   \n",
            "3    -0.842907 -0.983813      -0.230279       0.124667  0.106027 -0.491729   \n",
            "4    -1.140404  0.521895      -1.705944       0.883801  0.744677  1.435513   \n",
            "\n",
            "   DiabetesPedigreeFunction       Age  Outcome  \n",
            "0                  0.461673  1.430763        1  \n",
            "1                 -0.368227 -0.184414        0  \n",
            "2                  0.596983 -0.099404        1  \n",
            "3                 -0.921494 -1.034507        0  \n",
            "4                  5.456109 -0.014395        1  \n"
          ]
        }
      ]
    },
    {
      "cell_type": "code",
      "source": [
        "# shape of the dataset\n",
        "print(diabetes_df.shape)"
      ],
      "metadata": {
        "colab": {
          "base_uri": "https://localhost:8080/"
        },
        "id": "h_i_e0uNsLjF",
        "outputId": "a627a5c3-2ba8-42dd-d7ca-b74667728991"
      },
      "execution_count": 15,
      "outputs": [
        {
          "output_type": "stream",
          "name": "stdout",
          "text": [
            "(750, 9)\n"
          ]
        }
      ]
    },
    {
      "cell_type": "code",
      "source": [
        "# Getting the datatype and the number of non-null values in each column\n",
        "print(diabetes_df.info())"
      ],
      "metadata": {
        "colab": {
          "base_uri": "https://localhost:8080/"
        },
        "id": "7r2tCftmsP6t",
        "outputId": "123ea4c0-b223-4adc-9dc5-948cc3be0e2e"
      },
      "execution_count": 16,
      "outputs": [
        {
          "output_type": "stream",
          "name": "stdout",
          "text": [
            "<class 'pandas.core.frame.DataFrame'>\n",
            "RangeIndex: 750 entries, 0 to 749\n",
            "Data columns (total 9 columns):\n",
            " #   Column                    Non-Null Count  Dtype  \n",
            "---  ------                    --------------  -----  \n",
            " 0   Pregnancies               750 non-null    float64\n",
            " 1   Glucose                   750 non-null    float64\n",
            " 2   BloodPressure             750 non-null    float64\n",
            " 3   SkinThickness             750 non-null    float64\n",
            " 4   Insulin                   750 non-null    float64\n",
            " 5   BMI                       750 non-null    float64\n",
            " 6   DiabetesPedigreeFunction  750 non-null    float64\n",
            " 7   Age                       750 non-null    float64\n",
            " 8   Outcome                   750 non-null    int64  \n",
            "dtypes: float64(8), int64(1)\n",
            "memory usage: 52.9 KB\n",
            "None\n"
          ]
        }
      ]
    },
    {
      "cell_type": "code",
      "source": [
        "# summary statistics of the numerical columns\n",
        "print(diabetes_df.describe())"
      ],
      "metadata": {
        "colab": {
          "base_uri": "https://localhost:8080/"
        },
        "id": "eNhJTkU5sSL_",
        "outputId": "0003ee33-22d2-49b4-f6fa-64edb90e4446"
      },
      "execution_count": 17,
      "outputs": [
        {
          "output_type": "stream",
          "name": "stdout",
          "text": [
            "        Pregnancies       Glucose  BloodPressure  SkinThickness       Insulin  \\\n",
            "count  7.500000e+02  7.500000e+02   7.500000e+02   7.500000e+02  7.500000e+02   \n",
            "mean  -4.736952e-17 -8.526513e-17   5.980401e-17  -4.973799e-17 -9.592327e-17   \n",
            "std    1.000667e+00  1.000667e+00   1.000667e+00   1.000667e+00  1.000667e+00   \n",
            "min   -1.140404e+00 -3.775649e+00  -3.976198e+00  -1.330341e+00 -7.052307e-01   \n",
            "25%   -8.429073e-01 -6.701241e-01  -3.437921e-01  -1.330341e+00 -7.052307e-01   \n",
            "50%   -2.479139e-01 -1.368522e-01   1.102587e-01   1.246667e-01 -3.556993e-01   \n",
            "75%    6.445762e-01  6.160022e-01   5.643094e-01   7.414633e-01  4.167220e-01   \n",
            "max    3.917040e+00  2.466769e+00   2.948076e+00   4.932517e+00  6.596092e+00   \n",
            "\n",
            "                BMI  DiabetesPedigreeFunction           Age     Outcome  \n",
            "count  7.500000e+02              7.500000e+02  7.500000e+02  750.000000  \n",
            "mean   5.589603e-16             -4.026409e-17 -8.408089e-17    0.333333  \n",
            "std    1.000667e+00              1.000667e+00  1.000667e+00    0.471719  \n",
            "min   -4.102097e+00             -1.189107e+00 -1.034507e+00    0.000000  \n",
            "25%   -6.073640e-01             -6.869570e-01 -7.794787e-01    0.000000  \n",
            "50%    9.353550e-03             -2.975654e-01 -3.544321e-01    0.000000  \n",
            "75%    5.875263e-01              4.571628e-01  6.444272e-01    1.000000  \n",
            "max    4.519101e+00              5.853018e+00  4.066052e+00    1.000000  \n"
          ]
        }
      ]
    },
    {
      "cell_type": "code",
      "source": [
        "# Handling missing values\n",
        "print(diabetes_df.isnull().sum())"
      ],
      "metadata": {
        "colab": {
          "base_uri": "https://localhost:8080/"
        },
        "id": "2e0yjEAQsVDp",
        "outputId": "1ee8fe54-647c-411e-de57-510403319a86"
      },
      "execution_count": 18,
      "outputs": [
        {
          "output_type": "stream",
          "name": "stdout",
          "text": [
            "Pregnancies                 0\n",
            "Glucose                     0\n",
            "BloodPressure               0\n",
            "SkinThickness               0\n",
            "Insulin                     0\n",
            "BMI                         0\n",
            "DiabetesPedigreeFunction    0\n",
            "Age                         0\n",
            "Outcome                     0\n",
            "dtype: int64\n"
          ]
        }
      ]
    },
    {
      "cell_type": "code",
      "source": [
        "\n",
        "# Scaling the numerical features\n",
        "from sklearn.preprocessing import StandardScaler\n",
        "\n",
        "scaler = StandardScaler()\n",
        "num_features = ['Pregnancies', 'Glucose', 'BloodPressure', 'SkinThickness', 'Insulin', 'BMI', 'DiabetesPedigreeFunction', 'Age']\n",
        "\n",
        "diabetes_df[num_features] = scaler.fit_transform(diabetes_df[num_features])\n"
      ],
      "metadata": {
        "id": "kt7SoVM2rycB"
      },
      "execution_count": 6,
      "outputs": []
    },
    {
      "cell_type": "code",
      "source": [
        "# Encoding the categorical feature\n",
        "from sklearn.preprocessing import LabelEncoder\n",
        "\n",
        "label_encoder = LabelEncoder()\n",
        "diabetes_df['Outcome'] = label_encoder.fit_transform(diabetes_df['Outcome'])\n",
        "\n",
        "# Feature selection\n",
        "X = diabetes_df.drop(['Outcome'], axis=1)\n",
        "y = diabetes_df['Outcome']\n"
      ],
      "metadata": {
        "id": "kSWCvz-Jr0Ky"
      },
      "execution_count": 19,
      "outputs": []
    },
    {
      "cell_type": "code",
      "source": [
        "from sklearn.feature_selection import SelectKBest, f_classif\n",
        "\n",
        "selector = SelectKBest(f_classif, k=4)\n",
        "X_new = selector.fit_transform(X, y)"
      ],
      "metadata": {
        "id": "nfNJ59sbs4yv"
      },
      "execution_count": 20,
      "outputs": []
    },
    {
      "cell_type": "code",
      "source": [
        "# Getting the selected features\n",
        "selected_features = X.columns[selector.get_support()]\n",
        "\n",
        "# Create a new df with the selected features\n",
        "X_new_df = pd.DataFrame(X_new, columns=selected_features)"
      ],
      "metadata": {
        "id": "nEv2WYDwr29N"
      },
      "execution_count": 21,
      "outputs": []
    },
    {
      "cell_type": "markdown",
      "source": [
        "Task 2: Model Building"
      ],
      "metadata": {
        "id": "LhuAaxymsDLo"
      }
    },
    {
      "cell_type": "code",
      "source": [
        "from sklearn.model_selection import train_test_split\n",
        "from sklearn.linear_model import LogisticRegression\n",
        "from sklearn.tree import DecisionTreeClassifier\n",
        "from sklearn.svm import SVC\n",
        "from sklearn.metrics import accuracy_score, precision_score, recall_score, f1_score, roc_auc_score\n",
        "\n",
        "# Splitting the data into training and testing sets\n",
        "X_train, X_test, y_train, y_test = train_test_split(X_new_df, y, test_size=0.2, random_state=42)\n",
        "\n",
        "# Training the Logistic Regression model\n",
        "lr_model = LogisticRegression(random_state=42)\n",
        "lr_model.fit(X_train, y_train)\n",
        "\n",
        "# Training the Decision Tree Classifier model\n",
        "dtc_model = DecisionTreeClassifier(random_state=42)\n",
        "dtc_model.fit(X_train, y_train)\n",
        "\n",
        "# Training the Support Vector Machine model\n",
        "svm_model = SVC(random_state=42)\n",
        "svm_model.fit(X_train, y_train)\n"
      ],
      "metadata": {
        "colab": {
          "base_uri": "https://localhost:8080/",
          "height": 74
        },
        "id": "aC5_xwldsFn1",
        "outputId": "f69b81a8-9a51-43c4-9d8e-23119eaba95d"
      },
      "execution_count": 22,
      "outputs": [
        {
          "output_type": "execute_result",
          "data": {
            "text/plain": [
              "SVC(random_state=42)"
            ],
            "text/html": [
              "<style>#sk-container-id-2 {color: black;background-color: white;}#sk-container-id-2 pre{padding: 0;}#sk-container-id-2 div.sk-toggleable {background-color: white;}#sk-container-id-2 label.sk-toggleable__label {cursor: pointer;display: block;width: 100%;margin-bottom: 0;padding: 0.3em;box-sizing: border-box;text-align: center;}#sk-container-id-2 label.sk-toggleable__label-arrow:before {content: \"▸\";float: left;margin-right: 0.25em;color: #696969;}#sk-container-id-2 label.sk-toggleable__label-arrow:hover:before {color: black;}#sk-container-id-2 div.sk-estimator:hover label.sk-toggleable__label-arrow:before {color: black;}#sk-container-id-2 div.sk-toggleable__content {max-height: 0;max-width: 0;overflow: hidden;text-align: left;background-color: #f0f8ff;}#sk-container-id-2 div.sk-toggleable__content pre {margin: 0.2em;color: black;border-radius: 0.25em;background-color: #f0f8ff;}#sk-container-id-2 input.sk-toggleable__control:checked~div.sk-toggleable__content {max-height: 200px;max-width: 100%;overflow: auto;}#sk-container-id-2 input.sk-toggleable__control:checked~label.sk-toggleable__label-arrow:before {content: \"▾\";}#sk-container-id-2 div.sk-estimator input.sk-toggleable__control:checked~label.sk-toggleable__label {background-color: #d4ebff;}#sk-container-id-2 div.sk-label input.sk-toggleable__control:checked~label.sk-toggleable__label {background-color: #d4ebff;}#sk-container-id-2 input.sk-hidden--visually {border: 0;clip: rect(1px 1px 1px 1px);clip: rect(1px, 1px, 1px, 1px);height: 1px;margin: -1px;overflow: hidden;padding: 0;position: absolute;width: 1px;}#sk-container-id-2 div.sk-estimator {font-family: monospace;background-color: #f0f8ff;border: 1px dotted black;border-radius: 0.25em;box-sizing: border-box;margin-bottom: 0.5em;}#sk-container-id-2 div.sk-estimator:hover {background-color: #d4ebff;}#sk-container-id-2 div.sk-parallel-item::after {content: \"\";width: 100%;border-bottom: 1px solid gray;flex-grow: 1;}#sk-container-id-2 div.sk-label:hover label.sk-toggleable__label {background-color: #d4ebff;}#sk-container-id-2 div.sk-serial::before {content: \"\";position: absolute;border-left: 1px solid gray;box-sizing: border-box;top: 0;bottom: 0;left: 50%;z-index: 0;}#sk-container-id-2 div.sk-serial {display: flex;flex-direction: column;align-items: center;background-color: white;padding-right: 0.2em;padding-left: 0.2em;position: relative;}#sk-container-id-2 div.sk-item {position: relative;z-index: 1;}#sk-container-id-2 div.sk-parallel {display: flex;align-items: stretch;justify-content: center;background-color: white;position: relative;}#sk-container-id-2 div.sk-item::before, #sk-container-id-2 div.sk-parallel-item::before {content: \"\";position: absolute;border-left: 1px solid gray;box-sizing: border-box;top: 0;bottom: 0;left: 50%;z-index: -1;}#sk-container-id-2 div.sk-parallel-item {display: flex;flex-direction: column;z-index: 1;position: relative;background-color: white;}#sk-container-id-2 div.sk-parallel-item:first-child::after {align-self: flex-end;width: 50%;}#sk-container-id-2 div.sk-parallel-item:last-child::after {align-self: flex-start;width: 50%;}#sk-container-id-2 div.sk-parallel-item:only-child::after {width: 0;}#sk-container-id-2 div.sk-dashed-wrapped {border: 1px dashed gray;margin: 0 0.4em 0.5em 0.4em;box-sizing: border-box;padding-bottom: 0.4em;background-color: white;}#sk-container-id-2 div.sk-label label {font-family: monospace;font-weight: bold;display: inline-block;line-height: 1.2em;}#sk-container-id-2 div.sk-label-container {text-align: center;}#sk-container-id-2 div.sk-container {/* jupyter's `normalize.less` sets `[hidden] { display: none; }` but bootstrap.min.css set `[hidden] { display: none !important; }` so we also need the `!important` here to be able to override the default hidden behavior on the sphinx rendered scikit-learn.org. See: https://github.com/scikit-learn/scikit-learn/issues/21755 */display: inline-block !important;position: relative;}#sk-container-id-2 div.sk-text-repr-fallback {display: none;}</style><div id=\"sk-container-id-2\" class=\"sk-top-container\"><div class=\"sk-text-repr-fallback\"><pre>SVC(random_state=42)</pre><b>In a Jupyter environment, please rerun this cell to show the HTML representation or trust the notebook. <br />On GitHub, the HTML representation is unable to render, please try loading this page with nbviewer.org.</b></div><div class=\"sk-container\" hidden><div class=\"sk-item\"><div class=\"sk-estimator sk-toggleable\"><input class=\"sk-toggleable__control sk-hidden--visually\" id=\"sk-estimator-id-2\" type=\"checkbox\" checked><label for=\"sk-estimator-id-2\" class=\"sk-toggleable__label sk-toggleable__label-arrow\">SVC</label><div class=\"sk-toggleable__content\"><pre>SVC(random_state=42)</pre></div></div></div></div></div>"
            ]
          },
          "metadata": {},
          "execution_count": 22
        }
      ]
    },
    {
      "cell_type": "markdown",
      "source": [
        "Task 3: Model Evaluation"
      ],
      "metadata": {
        "id": "Yo9iSHNOsF9F"
      }
    },
    {
      "cell_type": "code",
      "source": [
        "# Making predictions using the trained models\n",
        "lr_pred = lr_model.predict(X_test)\n",
        "dtc_pred = dtc_model.predict(X_test)\n",
        "svm_pred = svm_model.predict(X_test)\n",
        "\n",
        "# Evaluating the performance of the logistic regression\n",
        "print('Logistic Regression:')\n",
        "print('Accuracy:', accuracy_score(y_test, lr_pred))\n",
        "print('Precision:', precision_score(y_test, lr_pred))\n",
        "print('Recall:', recall_score(y_test, lr_pred))\n",
        "print('F1 Score:', f1_score(y_test, lr_pred))\n",
        "print('ROC AUC Score:', roc_auc_score(y_test, lr_pred))"
      ],
      "metadata": {
        "colab": {
          "base_uri": "https://localhost:8080/"
        },
        "id": "CWQv3VHZsO3V",
        "outputId": "f6f9e27d-503e-4060-c116-0e7fb271fafb"
      },
      "execution_count": 26,
      "outputs": [
        {
          "output_type": "stream",
          "name": "stdout",
          "text": [
            "Logistic Regression:\n",
            "Accuracy: 0.8133333333333334\n",
            "Precision: 0.84\n",
            "Recall: 0.4666666666666667\n",
            "F1 Score: 0.6000000000000001\n",
            "ROC AUC Score: 0.7142857142857144\n"
          ]
        }
      ]
    },
    {
      "cell_type": "code",
      "source": [
        "# Evaluating the performance of the decision tree\n",
        "print('\\nDecision Tree Classifier:')\n",
        "print('Accuracy:', accuracy_score(y_test, dtc_pred))\n",
        "print('Precision:', precision_score(y_test, dtc_pred))\n",
        "print('Recall:', recall_score(y_test, dtc_pred))\n",
        "print('F1 Score:', f1_score(y_test, dtc_pred))\n",
        "print('ROC AUC Score:', roc_auc_score(y_test, dtc_pred))"
      ],
      "metadata": {
        "colab": {
          "base_uri": "https://localhost:8080/"
        },
        "id": "eDv4sFIdtHwo",
        "outputId": "96aabc4d-a054-49a7-df93-4f8ea03af480"
      },
      "execution_count": 27,
      "outputs": [
        {
          "output_type": "stream",
          "name": "stdout",
          "text": [
            "\n",
            "Decision Tree Classifier:\n",
            "Accuracy: 0.6933333333333334\n",
            "Precision: 0.4883720930232558\n",
            "Recall: 0.4666666666666667\n",
            "F1 Score: 0.47727272727272724\n",
            "ROC AUC Score: 0.6285714285714286\n"
          ]
        }
      ]
    },
    {
      "cell_type": "code",
      "source": [
        "# Evaluating the performance of the SVM\n",
        "print('\\nSupport Vector Machine:')\n",
        "print('Accuracy:', accuracy_score(y_test, svm_pred))\n",
        "print('Precision:', precision_score(y_test, svm_pred))\n",
        "print('Recall:', recall_score(y_test, svm_pred))\n",
        "print('F1 Score:', f1_score(y_test, svm_pred))\n",
        "print('ROC AUC Score:', roc_auc_score(y_test, svm_pred))"
      ],
      "metadata": {
        "colab": {
          "base_uri": "https://localhost:8080/"
        },
        "id": "F_gHFvvMtJ1H",
        "outputId": "96442e09-ff11-4063-bf2c-01d33ab168f8"
      },
      "execution_count": 28,
      "outputs": [
        {
          "output_type": "stream",
          "name": "stdout",
          "text": [
            "\n",
            "Support Vector Machine:\n",
            "Accuracy: 0.78\n",
            "Precision: 0.7142857142857143\n",
            "Recall: 0.4444444444444444\n",
            "F1 Score: 0.5479452054794521\n",
            "ROC AUC Score: 0.6841269841269841\n"
          ]
        }
      ]
    },
    {
      "cell_type": "markdown",
      "source": [
        "Logistic Regression model has the best overall performance with the highest accuracy, precision, F1 score, and ROC AUC score among the three models."
      ],
      "metadata": {
        "id": "ZhIskcV6sZnE"
      }
    },
    {
      "cell_type": "markdown",
      "source": [
        "Task 4: Deployment"
      ],
      "metadata": {
        "id": "a0aEKlP4VQh3"
      }
    }
  ]
}